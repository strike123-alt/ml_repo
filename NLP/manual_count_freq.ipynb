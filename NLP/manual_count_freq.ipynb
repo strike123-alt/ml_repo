{
 "cells": [
  {
   "cell_type": "code",
   "execution_count": 16,
   "id": "69d96d78",
   "metadata": {},
   "outputs": [],
   "source": [
    "with open(r'D:\\Data Science\\udemy\\Notebooks\\18-Naive-Bayes-and-NLP\\One.txt') as f:\n",
    "    word_one = f.read().lower().split()\n",
    "    uni_words1 = set(word_one)"
   ]
  },
  {
   "cell_type": "code",
   "execution_count": 17,
   "id": "a57239b6",
   "metadata": {},
   "outputs": [],
   "source": [
    "with open(r'D:\\Data Science\\udemy\\Notebooks\\18-Naive-Bayes-and-NLP\\Two.txt') as f:\n",
    "    word_two = f.read().lower().split()\n",
    "    uni_words2 = set(word_two)"
   ]
  },
  {
   "cell_type": "code",
   "execution_count": 18,
   "id": "6772af9c",
   "metadata": {},
   "outputs": [
    {
     "name": "stdout",
     "output_type": "stream",
     "text": [
      "{'story', 'is', 'this', 'are', 'pets', 'about', 'furry', 'animals', 'canine', 'a', 'our', 'dogs'}\n"
     ]
    }
   ],
   "source": [
    "print(uni_words1)"
   ]
  },
  {
   "cell_type": "code",
   "execution_count": 19,
   "id": "781c9d1f",
   "metadata": {},
   "outputs": [
    {
     "name": "stdout",
     "output_type": "stream",
     "text": [
      "{'water', 'story', 'is', 'this', 'surfing', 'catching', 'popular', 'about', 'waves', 'sport', 'fun', 'a'}\n"
     ]
    }
   ],
   "source": [
    "print(uni_words2)"
   ]
  },
  {
   "cell_type": "code",
   "execution_count": 20,
   "id": "c246cf42",
   "metadata": {},
   "outputs": [],
   "source": [
    "uni_words = set()\n",
    "uni_words.update(uni_words1) \n",
    "uni_words.update(uni_words2)"
   ]
  },
  {
   "cell_type": "code",
   "execution_count": 21,
   "id": "4654eab5",
   "metadata": {},
   "outputs": [
    {
     "data": {
      "text/plain": [
       "{'a',\n",
       " 'about',\n",
       " 'animals',\n",
       " 'are',\n",
       " 'canine',\n",
       " 'catching',\n",
       " 'dogs',\n",
       " 'fun',\n",
       " 'furry',\n",
       " 'is',\n",
       " 'our',\n",
       " 'pets',\n",
       " 'popular',\n",
       " 'sport',\n",
       " 'story',\n",
       " 'surfing',\n",
       " 'this',\n",
       " 'water',\n",
       " 'waves'}"
      ]
     },
     "execution_count": 21,
     "metadata": {},
     "output_type": "execute_result"
    }
   ],
   "source": [
    "uni_words"
   ]
  },
  {
   "cell_type": "code",
   "execution_count": 23,
   "id": "69c89dc0",
   "metadata": {},
   "outputs": [],
   "source": [
    "full_vocab = dict()\n",
    "i = 0\n",
    "for words in uni_words:\n",
    "    full_vocab[words] = i\n",
    "    i = i + 1"
   ]
  },
  {
   "cell_type": "code",
   "execution_count": 24,
   "id": "e88ff6de",
   "metadata": {},
   "outputs": [
    {
     "data": {
      "text/plain": [
       "{'is': 0,\n",
       " 'catching': 1,\n",
       " 'are': 2,\n",
       " 'pets': 3,\n",
       " 'about': 4,\n",
       " 'animals': 5,\n",
       " 'sport': 6,\n",
       " 'canine': 7,\n",
       " 'our': 8,\n",
       " 'dogs': 9,\n",
       " 'water': 10,\n",
       " 'story': 11,\n",
       " 'surfing': 12,\n",
       " 'this': 13,\n",
       " 'popular': 14,\n",
       " 'furry': 15,\n",
       " 'waves': 16,\n",
       " 'fun': 17,\n",
       " 'a': 18}"
      ]
     },
     "execution_count": 24,
     "metadata": {},
     "output_type": "execute_result"
    }
   ],
   "source": [
    "full_vocab"
   ]
  },
  {
   "cell_type": "code",
   "execution_count": 25,
   "id": "79317837",
   "metadata": {},
   "outputs": [],
   "source": [
    "one_freq = [0] * len(full_vocab)\n",
    "two_freq = [0] * len(full_vocab)\n",
    "all_words = ['']*len(full_vocab)"
   ]
  },
  {
   "cell_type": "code",
   "execution_count": 26,
   "id": "6fffe77b",
   "metadata": {},
   "outputs": [
    {
     "data": {
      "text/plain": [
       "[0, 0, 0, 0, 0, 0, 0, 0, 0, 0, 0, 0, 0, 0, 0, 0, 0, 0, 0]"
      ]
     },
     "execution_count": 26,
     "metadata": {},
     "output_type": "execute_result"
    }
   ],
   "source": [
    "two_freq"
   ]
  },
  {
   "cell_type": "code",
   "execution_count": 27,
   "id": "b9eeff95",
   "metadata": {},
   "outputs": [],
   "source": [
    "with open(r'D:\\Data Science\\udemy\\Notebooks\\18-Naive-Bayes-and-NLP\\One.txt') as f:\n",
    "    word_one = f.read().lower().split()"
   ]
  },
  {
   "cell_type": "code",
   "execution_count": 29,
   "id": "6c7b8a8f",
   "metadata": {},
   "outputs": [
    {
     "data": {
      "text/plain": [
       "['this',\n",
       " 'is',\n",
       " 'a',\n",
       " 'story',\n",
       " 'about',\n",
       " 'dogs',\n",
       " 'our',\n",
       " 'canine',\n",
       " 'pets',\n",
       " 'dogs',\n",
       " 'are',\n",
       " 'furry',\n",
       " 'animals']"
      ]
     },
     "execution_count": 29,
     "metadata": {},
     "output_type": "execute_result"
    }
   ],
   "source": [
    "word_one"
   ]
  },
  {
   "cell_type": "code",
   "execution_count": 34,
   "id": "466beeb1",
   "metadata": {},
   "outputs": [],
   "source": [
    "for word in word_one:\n",
    "    word_ind = full_vocab[word]\n",
    "    one_freq[word_ind] += 1"
   ]
  },
  {
   "cell_type": "code",
   "execution_count": 35,
   "id": "343dc7b4",
   "metadata": {},
   "outputs": [
    {
     "data": {
      "text/plain": [
       "[1, 0, 1, 1, 1, 1, 0, 1, 1, 2, 0, 1, 0, 1, 0, 1, 0, 0, 1]"
      ]
     },
     "execution_count": 35,
     "metadata": {},
     "output_type": "execute_result"
    }
   ],
   "source": [
    "one_freq"
   ]
  },
  {
   "cell_type": "code",
   "execution_count": 37,
   "id": "843bbed4",
   "metadata": {},
   "outputs": [],
   "source": [
    "with open(r'D:\\Data Science\\udemy\\Notebooks\\18-Naive-Bayes-and-NLP\\Two.txt') as f:\n",
    "    word_two = f.read().lower().split()"
   ]
  },
  {
   "cell_type": "code",
   "execution_count": 39,
   "id": "cd8d42a1",
   "metadata": {},
   "outputs": [
    {
     "data": {
      "text/plain": [
       "['this',\n",
       " 'story',\n",
       " 'is',\n",
       " 'about',\n",
       " 'surfing',\n",
       " 'catching',\n",
       " 'waves',\n",
       " 'is',\n",
       " 'fun',\n",
       " 'surfing',\n",
       " 'is',\n",
       " 'a',\n",
       " 'popular',\n",
       " 'water',\n",
       " 'sport']"
      ]
     },
     "execution_count": 39,
     "metadata": {},
     "output_type": "execute_result"
    }
   ],
   "source": [
    "word_two"
   ]
  },
  {
   "cell_type": "code",
   "execution_count": 40,
   "id": "bc8aea29",
   "metadata": {},
   "outputs": [],
   "source": [
    "for word in word_two:\n",
    "    word_ind = full_vocab[word]\n",
    "    two_freq[word_ind] += 1"
   ]
  },
  {
   "cell_type": "code",
   "execution_count": 41,
   "id": "e57cee86",
   "metadata": {},
   "outputs": [
    {
     "data": {
      "text/plain": [
       "[3, 1, 0, 0, 1, 0, 1, 0, 0, 0, 1, 1, 2, 1, 1, 0, 1, 1, 1]"
      ]
     },
     "execution_count": 41,
     "metadata": {},
     "output_type": "execute_result"
    }
   ],
   "source": [
    "two_freq"
   ]
  },
  {
   "cell_type": "code",
   "execution_count": 42,
   "id": "962dc7a9",
   "metadata": {},
   "outputs": [],
   "source": [
    "for word in full_vocab:\n",
    "    word_ind = full_vocab[word]\n",
    "    all_words[word_ind] = word"
   ]
  },
  {
   "cell_type": "code",
   "execution_count": 43,
   "id": "e7ff0097",
   "metadata": {},
   "outputs": [
    {
     "data": {
      "text/plain": [
       "['is',\n",
       " 'catching',\n",
       " 'are',\n",
       " 'pets',\n",
       " 'about',\n",
       " 'animals',\n",
       " 'sport',\n",
       " 'canine',\n",
       " 'our',\n",
       " 'dogs',\n",
       " 'water',\n",
       " 'story',\n",
       " 'surfing',\n",
       " 'this',\n",
       " 'popular',\n",
       " 'furry',\n",
       " 'waves',\n",
       " 'fun',\n",
       " 'a']"
      ]
     },
     "execution_count": 43,
     "metadata": {},
     "output_type": "execute_result"
    }
   ],
   "source": [
    "all_words"
   ]
  },
  {
   "cell_type": "code",
   "execution_count": 46,
   "id": "72319b9b",
   "metadata": {},
   "outputs": [],
   "source": [
    "import pandas as pd\n",
    "bow = pd.DataFrame(data=[one_freq, two_freq], columns = all_words)"
   ]
  },
  {
   "cell_type": "code",
   "execution_count": 47,
   "id": "c44575af",
   "metadata": {},
   "outputs": [
    {
     "data": {
      "text/html": [
       "<div>\n",
       "<style scoped>\n",
       "    .dataframe tbody tr th:only-of-type {\n",
       "        vertical-align: middle;\n",
       "    }\n",
       "\n",
       "    .dataframe tbody tr th {\n",
       "        vertical-align: top;\n",
       "    }\n",
       "\n",
       "    .dataframe thead th {\n",
       "        text-align: right;\n",
       "    }\n",
       "</style>\n",
       "<table border=\"1\" class=\"dataframe\">\n",
       "  <thead>\n",
       "    <tr style=\"text-align: right;\">\n",
       "      <th></th>\n",
       "      <th>is</th>\n",
       "      <th>catching</th>\n",
       "      <th>are</th>\n",
       "      <th>pets</th>\n",
       "      <th>about</th>\n",
       "      <th>animals</th>\n",
       "      <th>sport</th>\n",
       "      <th>canine</th>\n",
       "      <th>our</th>\n",
       "      <th>dogs</th>\n",
       "      <th>water</th>\n",
       "      <th>story</th>\n",
       "      <th>surfing</th>\n",
       "      <th>this</th>\n",
       "      <th>popular</th>\n",
       "      <th>furry</th>\n",
       "      <th>waves</th>\n",
       "      <th>fun</th>\n",
       "      <th>a</th>\n",
       "    </tr>\n",
       "  </thead>\n",
       "  <tbody>\n",
       "    <tr>\n",
       "      <th>0</th>\n",
       "      <td>1</td>\n",
       "      <td>0</td>\n",
       "      <td>1</td>\n",
       "      <td>1</td>\n",
       "      <td>1</td>\n",
       "      <td>1</td>\n",
       "      <td>0</td>\n",
       "      <td>1</td>\n",
       "      <td>1</td>\n",
       "      <td>2</td>\n",
       "      <td>0</td>\n",
       "      <td>1</td>\n",
       "      <td>0</td>\n",
       "      <td>1</td>\n",
       "      <td>0</td>\n",
       "      <td>1</td>\n",
       "      <td>0</td>\n",
       "      <td>0</td>\n",
       "      <td>1</td>\n",
       "    </tr>\n",
       "    <tr>\n",
       "      <th>1</th>\n",
       "      <td>3</td>\n",
       "      <td>1</td>\n",
       "      <td>0</td>\n",
       "      <td>0</td>\n",
       "      <td>1</td>\n",
       "      <td>0</td>\n",
       "      <td>1</td>\n",
       "      <td>0</td>\n",
       "      <td>0</td>\n",
       "      <td>0</td>\n",
       "      <td>1</td>\n",
       "      <td>1</td>\n",
       "      <td>2</td>\n",
       "      <td>1</td>\n",
       "      <td>1</td>\n",
       "      <td>0</td>\n",
       "      <td>1</td>\n",
       "      <td>1</td>\n",
       "      <td>1</td>\n",
       "    </tr>\n",
       "  </tbody>\n",
       "</table>\n",
       "</div>"
      ],
      "text/plain": [
       "   is  catching  are  pets  about  animals  sport  canine  our  dogs  water  \\\n",
       "0   1         0    1     1      1        1      0       1    1     2      0   \n",
       "1   3         1    0     0      1        0      1       0    0     0      1   \n",
       "\n",
       "   story  surfing  this  popular  furry  waves  fun  a  \n",
       "0      1        0     1        0      1      0    0  1  \n",
       "1      1        2     1        1      0      1    1  1  "
      ]
     },
     "execution_count": 47,
     "metadata": {},
     "output_type": "execute_result"
    }
   ],
   "source": [
    "bow"
   ]
  },
  {
   "cell_type": "code",
   "execution_count": null,
   "id": "f3a5ad5c",
   "metadata": {},
   "outputs": [],
   "source": []
  }
 ],
 "metadata": {
  "kernelspec": {
   "display_name": "Python 3 (ipykernel)",
   "language": "python",
   "name": "python3"
  },
  "language_info": {
   "codemirror_mode": {
    "name": "ipython",
    "version": 3
   },
   "file_extension": ".py",
   "mimetype": "text/x-python",
   "name": "python",
   "nbconvert_exporter": "python",
   "pygments_lexer": "ipython3",
   "version": "3.9.7"
  }
 },
 "nbformat": 4,
 "nbformat_minor": 5
}
